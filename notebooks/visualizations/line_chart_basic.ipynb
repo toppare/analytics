{
 "cells": [
  {
   "cell_type": "code",
   "execution_count": 1,
   "metadata": {},
   "outputs": [],
   "source": [
    "import pandas as pd\n",
    "import numpy as np\n",
    "import pandas_profiling\n",
    "import plotly_express as px\n",
    "import plotly.graph_objs as go\n",
    "import plotly.offline as py\n",
    "from plotly.io import write_image"
   ]
  },
  {
   "cell_type": "code",
   "execution_count": 2,
   "metadata": {},
   "outputs": [
    {
     "data": {
      "text/html": [
       "<style>.container { width:95% !important; }</style>"
      ],
      "text/plain": [
       "<IPython.core.display.HTML object>"
      ]
     },
     "metadata": {},
     "output_type": "display_data"
    }
   ],
   "source": [
    "from IPython.core.display import display, HTML, display_html\n",
    "display(HTML(\"<style>.container { width:95% !important; }</style>\"))"
   ]
  },
  {
   "cell_type": "code",
   "execution_count": 40,
   "metadata": {},
   "outputs": [
    {
     "data": {
      "text/html": [
       "<div>\n",
       "<style scoped>\n",
       "    .dataframe tbody tr th:only-of-type {\n",
       "        vertical-align: middle;\n",
       "    }\n",
       "\n",
       "    .dataframe tbody tr th {\n",
       "        vertical-align: top;\n",
       "    }\n",
       "\n",
       "    .dataframe thead th {\n",
       "        text-align: right;\n",
       "    }\n",
       "</style>\n",
       "<table border=\"1\" class=\"dataframe\">\n",
       "  <thead>\n",
       "    <tr style=\"text-align: right;\">\n",
       "      <th></th>\n",
       "      <th>date</th>\n",
       "      <th>platform</th>\n",
       "      <th>click_rate</th>\n",
       "    </tr>\n",
       "  </thead>\n",
       "  <tbody>\n",
       "    <tr>\n",
       "      <th>60</th>\n",
       "      <td>2019-02-27</td>\n",
       "      <td>ios</td>\n",
       "      <td>0.0826</td>\n",
       "    </tr>\n",
       "    <tr>\n",
       "      <th>101</th>\n",
       "      <td>2019-01-17</td>\n",
       "      <td>ios</td>\n",
       "      <td>0.0767</td>\n",
       "    </tr>\n",
       "    <tr>\n",
       "      <th>84</th>\n",
       "      <td>2019-02-03</td>\n",
       "      <td>ios</td>\n",
       "      <td>0.0870</td>\n",
       "    </tr>\n",
       "  </tbody>\n",
       "</table>\n",
       "</div>"
      ],
      "text/plain": [
       "           date platform  click_rate\n",
       "60   2019-02-27      ios      0.0826\n",
       "101  2019-01-17      ios      0.0767\n",
       "84   2019-02-03      ios      0.0870"
      ]
     },
     "execution_count": 40,
     "metadata": {},
     "output_type": "execute_result"
    }
   ],
   "source": [
    "df = pd.read_csv('../../datasets/daily_click_rates.csv')\n",
    "df = df.melt(id_vars=['date'], value_vars=['android', 'ios'], value_name='click_rate', var_name='platform')\n",
    "df.sample(3)"
   ]
  },
  {
   "cell_type": "code",
   "execution_count": 66,
   "metadata": {
    "scrolled": false
   },
   "outputs": [
    {
     "data": {
      "application/vnd.plotly.v1+json": {
       "config": {
        "linkText": "Export to plot.ly",
        "plotlyServerURL": "https://plot.ly",
        "showLink": false
       },
       "data": [
        {
         "hoverlabel": {
          "namelength": 0
         },
         "hovertemplate": "platform=android<br>date=%{x}<br>click_rate=%{y}",
         "legendgroup": "platform=android",
         "line": {
          "color": "#87CEEB",
          "dash": "solid"
         },
         "mode": "lines",
         "name": "platform=android",
         "showlegend": true,
         "textfont": {
          "size": 10
         },
         "type": "scatter",
         "uid": "b4587006-d1e9-4bcb-b426-b4d550ff660c",
         "x": [
          "2019-02-28",
          "2019-02-27",
          "2019-02-26",
          "2019-02-25",
          "2019-02-24",
          "2019-02-23",
          "2019-02-22",
          "2019-02-21",
          "2019-02-20",
          "2019-02-19",
          "2019-02-18",
          "2019-02-17",
          "2019-02-16",
          "2019-02-15",
          "2019-02-14",
          "2019-02-13",
          "2019-02-12",
          "2019-02-11",
          "2019-02-10",
          "2019-02-09",
          "2019-02-08",
          "2019-02-07",
          "2019-02-06",
          "2019-02-05",
          "2019-02-04",
          "2019-02-03",
          "2019-02-02",
          "2019-02-01",
          "2019-01-31",
          "2019-01-30",
          "2019-01-29",
          "2019-01-28",
          "2019-01-27",
          "2019-01-26",
          "2019-01-25",
          "2019-01-24",
          "2019-01-23",
          "2019-01-22",
          "2019-01-21",
          "2019-01-20",
          "2019-01-19",
          "2019-01-18",
          "2019-01-17",
          "2019-01-16",
          "2019-01-15",
          "2019-01-14",
          "2019-01-13",
          "2019-01-12",
          "2019-01-11",
          "2019-01-10",
          "2019-01-09",
          "2019-01-08",
          "2019-01-07",
          "2019-01-06",
          "2019-01-05",
          "2019-01-04",
          "2019-01-03",
          "2019-01-02",
          "2019-01-01"
         ],
         "xaxis": "x",
         "y": [
          0.0401,
          0.0411,
          0.0347,
          0.0362,
          0.0402,
          0.0409,
          0.0395,
          0.0313,
          0.0392,
          0.0401,
          0.0348,
          0.0353,
          0.0477,
          0.0389,
          0.0319,
          0.0412,
          0.0329,
          0.0304,
          0.0322,
          0.0337,
          0.0372,
          0.0318,
          0.028999999999999998,
          0.0309,
          0.0317,
          0.0329,
          0.0288,
          0.0302,
          0.0335,
          0.0407,
          0.0352,
          0.0443,
          0.0387,
          0.0311,
          0.0332,
          0.0312,
          0.0454,
          0.0402,
          0.0389,
          0.0325,
          0.028999999999999998,
          0.0354,
          0.0367,
          0.0473,
          0.0361,
          0.0271,
          0.0273,
          0.027000000000000003,
          0.025,
          0.0267,
          0.0257,
          0.0235,
          0.0248,
          0.0305,
          0.0236,
          0.0247,
          0.0263,
          0.0293,
          0.0322
         ],
         "yaxis": "y"
        },
        {
         "hoverlabel": {
          "namelength": 0
         },
         "hovertemplate": "platform=ios<br>date=%{x}<br>click_rate=%{y}",
         "legendgroup": "platform=ios",
         "line": {
          "color": "#FF6347",
          "dash": "solid"
         },
         "mode": "lines",
         "name": "platform=ios",
         "showlegend": true,
         "textfont": {
          "size": 10
         },
         "type": "scatter",
         "uid": "d58951c6-1623-4822-a0f5-02e4ff0ee312",
         "x": [
          "2019-02-28",
          "2019-02-27",
          "2019-02-26",
          "2019-02-25",
          "2019-02-24",
          "2019-02-23",
          "2019-02-22",
          "2019-02-21",
          "2019-02-20",
          "2019-02-19",
          "2019-02-18",
          "2019-02-17",
          "2019-02-16",
          "2019-02-15",
          "2019-02-14",
          "2019-02-13",
          "2019-02-12",
          "2019-02-11",
          "2019-02-10",
          "2019-02-09",
          "2019-02-08",
          "2019-02-07",
          "2019-02-06",
          "2019-02-05",
          "2019-02-04",
          "2019-02-03",
          "2019-02-02",
          "2019-02-01",
          "2019-01-31",
          "2019-01-30",
          "2019-01-29",
          "2019-01-28",
          "2019-01-27",
          "2019-01-26",
          "2019-01-25",
          "2019-01-24",
          "2019-01-23",
          "2019-01-22",
          "2019-01-21",
          "2019-01-20",
          "2019-01-19",
          "2019-01-18",
          "2019-01-17",
          "2019-01-16",
          "2019-01-15",
          "2019-01-14",
          "2019-01-13",
          "2019-01-12",
          "2019-01-11",
          "2019-01-10",
          "2019-01-09",
          "2019-01-08",
          "2019-01-07",
          "2019-01-06",
          "2019-01-05",
          "2019-01-04",
          "2019-01-03",
          "2019-01-02",
          "2019-01-01"
         ],
         "xaxis": "x",
         "y": [
          0.083,
          0.0826,
          0.0822,
          0.0841,
          0.0867,
          0.0884,
          0.0853,
          0.08,
          0.0758,
          0.0814,
          0.0755,
          0.0813,
          0.0856,
          0.0773,
          0.0665,
          0.07,
          0.0753,
          0.0824,
          0.0802,
          0.078,
          0.0833,
          0.0749,
          0.0745,
          0.0762,
          0.079,
          0.087,
          0.0894,
          0.0774,
          0.0758,
          0.0808,
          0.0697,
          0.0736,
          0.0845,
          0.0814,
          0.0754,
          0.0701,
          0.0749,
          0.0847,
          0.0797,
          0.0744,
          0.0783,
          0.0795,
          0.0767,
          0.0808,
          0.0761,
          0.075,
          0.0763,
          0.0749,
          0.0726,
          0.0708,
          0.0717,
          0.0725,
          0.0756,
          0.078,
          0.0769,
          0.0773,
          0.0773,
          0.0834,
          0.09
         ],
         "yaxis": "y"
        }
       ],
       "layout": {
        "grid": {
         "xaxes": [
          "x"
         ],
         "xgap": 0.1,
         "xside": "bottom",
         "yaxes": [
          "y"
         ],
         "ygap": 0.1,
         "yside": "left"
        },
        "height": 400,
        "legend": {
         "tracegroupgap": 0
        },
        "margin": {
         "t": 60
        },
        "template": {
         "data": {
          "bar": [
           {
            "marker": {
             "line": {
              "color": "rgb(237,237,237)",
              "width": 0.5
             }
            },
            "type": "bar"
           }
          ],
          "barpolar": [
           {
            "marker": {
             "line": {
              "color": "rgb(237,237,237)",
              "width": 0.5
             }
            },
            "type": "barpolar"
           }
          ],
          "carpet": [
           {
            "aaxis": {
             "endlinecolor": "rgb(51,51,51)",
             "gridcolor": "white",
             "linecolor": "white",
             "minorgridcolor": "white",
             "startlinecolor": "rgb(51,51,51)"
            },
            "baxis": {
             "endlinecolor": "rgb(51,51,51)",
             "gridcolor": "white",
             "linecolor": "white",
             "minorgridcolor": "white",
             "startlinecolor": "rgb(51,51,51)"
            },
            "type": "carpet"
           }
          ],
          "choropleth": [
           {
            "colorbar": {
             "outlinewidth": 0,
             "tickcolor": "rgb(237,237,237)",
             "ticklen": 6,
             "ticks": "inside"
            },
            "type": "choropleth"
           }
          ],
          "contour": [
           {
            "colorbar": {
             "outlinewidth": 0,
             "tickcolor": "rgb(237,237,237)",
             "ticklen": 6,
             "ticks": "inside"
            },
            "colorscale": [
             [
              0,
              "rgb(20,44,66)"
             ],
             [
              1,
              "rgb(90,179,244)"
             ]
            ],
            "type": "contour"
           }
          ],
          "contourcarpet": [
           {
            "colorbar": {
             "outlinewidth": 0,
             "tickcolor": "rgb(237,237,237)",
             "ticklen": 6,
             "ticks": "inside"
            },
            "type": "contourcarpet"
           }
          ],
          "heatmap": [
           {
            "colorbar": {
             "outlinewidth": 0,
             "tickcolor": "rgb(237,237,237)",
             "ticklen": 6,
             "ticks": "inside"
            },
            "colorscale": [
             [
              0,
              "rgb(20,44,66)"
             ],
             [
              1,
              "rgb(90,179,244)"
             ]
            ],
            "type": "heatmap"
           }
          ],
          "heatmapgl": [
           {
            "colorbar": {
             "outlinewidth": 0,
             "tickcolor": "rgb(237,237,237)",
             "ticklen": 6,
             "ticks": "inside"
            },
            "type": "heatmapgl"
           }
          ],
          "histogram": [
           {
            "marker": {
             "colorbar": {
              "outlinewidth": 0,
              "tickcolor": "rgb(237,237,237)",
              "ticklen": 6,
              "ticks": "inside"
             }
            },
            "type": "histogram"
           }
          ],
          "histogram2d": [
           {
            "colorbar": {
             "outlinewidth": 0,
             "tickcolor": "rgb(237,237,237)",
             "ticklen": 6,
             "ticks": "inside"
            },
            "colorscale": [
             [
              0,
              "rgb(20,44,66)"
             ],
             [
              1,
              "rgb(90,179,244)"
             ]
            ],
            "type": "histogram2d"
           }
          ],
          "histogram2dcontour": [
           {
            "colorbar": {
             "outlinewidth": 0,
             "tickcolor": "rgb(237,237,237)",
             "ticklen": 6,
             "ticks": "inside"
            },
            "colorscale": [
             [
              0,
              "rgb(20,44,66)"
             ],
             [
              1,
              "rgb(90,179,244)"
             ]
            ],
            "type": "histogram2dcontour"
           }
          ],
          "mesh3d": [
           {
            "colorbar": {
             "outlinewidth": 0,
             "tickcolor": "rgb(237,237,237)",
             "ticklen": 6,
             "ticks": "inside"
            },
            "type": "mesh3d"
           }
          ],
          "parcoords": [
           {
            "line": {
             "colorbar": {
              "outlinewidth": 0,
              "tickcolor": "rgb(237,237,237)",
              "ticklen": 6,
              "ticks": "inside"
             }
            },
            "type": "parcoords"
           }
          ],
          "scatter": [
           {
            "marker": {
             "colorbar": {
              "outlinewidth": 0,
              "tickcolor": "rgb(237,237,237)",
              "ticklen": 6,
              "ticks": "inside"
             }
            },
            "type": "scatter"
           }
          ],
          "scatter3d": [
           {
            "marker": {
             "colorbar": {
              "outlinewidth": 0,
              "tickcolor": "rgb(237,237,237)",
              "ticklen": 6,
              "ticks": "inside"
             }
            },
            "type": "scatter3d"
           }
          ],
          "scattercarpet": [
           {
            "marker": {
             "colorbar": {
              "outlinewidth": 0,
              "tickcolor": "rgb(237,237,237)",
              "ticklen": 6,
              "ticks": "inside"
             }
            },
            "type": "scattercarpet"
           }
          ],
          "scattergeo": [
           {
            "marker": {
             "colorbar": {
              "outlinewidth": 0,
              "tickcolor": "rgb(237,237,237)",
              "ticklen": 6,
              "ticks": "inside"
             }
            },
            "type": "scattergeo"
           }
          ],
          "scattergl": [
           {
            "marker": {
             "colorbar": {
              "outlinewidth": 0,
              "tickcolor": "rgb(237,237,237)",
              "ticklen": 6,
              "ticks": "inside"
             }
            },
            "type": "scattergl"
           }
          ],
          "scattermapbox": [
           {
            "marker": {
             "colorbar": {
              "outlinewidth": 0,
              "tickcolor": "rgb(237,237,237)",
              "ticklen": 6,
              "ticks": "inside"
             }
            },
            "type": "scattermapbox"
           }
          ],
          "scatterpolar": [
           {
            "marker": {
             "colorbar": {
              "outlinewidth": 0,
              "tickcolor": "rgb(237,237,237)",
              "ticklen": 6,
              "ticks": "inside"
             }
            },
            "type": "scatterpolar"
           }
          ],
          "scatterpolargl": [
           {
            "marker": {
             "colorbar": {
              "outlinewidth": 0,
              "tickcolor": "rgb(237,237,237)",
              "ticklen": 6,
              "ticks": "inside"
             }
            },
            "type": "scatterpolargl"
           }
          ],
          "scatterternary": [
           {
            "marker": {
             "colorbar": {
              "outlinewidth": 0,
              "tickcolor": "rgb(237,237,237)",
              "ticklen": 6,
              "ticks": "inside"
             }
            },
            "type": "scatterternary"
           }
          ],
          "surface": [
           {
            "colorbar": {
             "outlinewidth": 0,
             "tickcolor": "rgb(237,237,237)",
             "ticklen": 6,
             "ticks": "inside"
            },
            "type": "surface"
           }
          ],
          "table": [
           {
            "cells": {
             "fill": {
              "color": "rgb(237,237,237)"
             },
             "line": {
              "color": "white"
             }
            },
            "header": {
             "fill": {
              "color": "rgb(217,217,217)"
             },
             "line": {
              "color": "white"
             }
            },
            "type": "table"
           }
          ]
         },
         "layout": {
          "annotationdefaults": {
           "arrowhead": 0,
           "arrowwidth": 1
          },
          "colorscale": {
           "sequential": [
            [
             0,
             "rgb(20,44,66)"
            ],
            [
             1,
             "rgb(90,179,244)"
            ]
           ],
           "sequentialminus": [
            [
             0,
             "rgb(20,44,66)"
            ],
            [
             1,
             "rgb(90,179,244)"
            ]
           ]
          },
          "colorway": [
           "#F8766D",
           "#A3A500",
           "#00BF7D",
           "#00B0F6",
           "#E76BF3"
          ],
          "font": {
           "color": "rgb(51,51,51)"
          },
          "geo": {
           "bgcolor": "white",
           "lakecolor": "white",
           "landcolor": "rgb(237,237,237)",
           "showlakes": true,
           "showland": true,
           "subunitcolor": "white"
          },
          "hoverlabel": {
           "align": "left"
          },
          "hovermode": "closest",
          "paper_bgcolor": "white",
          "plot_bgcolor": "rgb(237,237,237)",
          "polar": {
           "angularaxis": {
            "gridcolor": "white",
            "linecolor": "white",
            "showgrid": true,
            "tickcolor": "rgb(51,51,51)",
            "ticks": "outside"
           },
           "bgcolor": "rgb(237,237,237)",
           "radialaxis": {
            "gridcolor": "white",
            "linecolor": "white",
            "showgrid": true,
            "tickcolor": "rgb(51,51,51)",
            "ticks": "outside"
           }
          },
          "scene": {
           "xaxis": {
            "backgroundcolor": "rgb(237,237,237)",
            "gridcolor": "white",
            "gridwidth": 2,
            "linecolor": "white",
            "showbackground": true,
            "showgrid": true,
            "tickcolor": "rgb(51,51,51)",
            "ticks": "outside",
            "zerolinecolor": "white"
           },
           "yaxis": {
            "backgroundcolor": "rgb(237,237,237)",
            "gridcolor": "white",
            "gridwidth": 2,
            "linecolor": "white",
            "showbackground": true,
            "showgrid": true,
            "tickcolor": "rgb(51,51,51)",
            "ticks": "outside",
            "zerolinecolor": "white"
           },
           "zaxis": {
            "backgroundcolor": "rgb(237,237,237)",
            "gridcolor": "white",
            "gridwidth": 2,
            "linecolor": "white",
            "showbackground": true,
            "showgrid": true,
            "tickcolor": "rgb(51,51,51)",
            "ticks": "outside",
            "zerolinecolor": "white"
           }
          },
          "shapedefaults": {
           "fillcolor": "black",
           "line": {
            "width": 0
           },
           "opacity": 0.3
          },
          "ternary": {
           "aaxis": {
            "gridcolor": "white",
            "linecolor": "white",
            "showgrid": true,
            "tickcolor": "rgb(51,51,51)",
            "ticks": "outside"
           },
           "baxis": {
            "gridcolor": "white",
            "linecolor": "white",
            "showgrid": true,
            "tickcolor": "rgb(51,51,51)",
            "ticks": "outside"
           },
           "bgcolor": "rgb(237,237,237)",
           "caxis": {
            "gridcolor": "white",
            "linecolor": "white",
            "showgrid": true,
            "tickcolor": "rgb(51,51,51)",
            "ticks": "outside"
           }
          },
          "xaxis": {
           "automargin": true,
           "gridcolor": "white",
           "linecolor": "white",
           "showgrid": true,
           "tickcolor": "rgb(51,51,51)",
           "ticks": "outside",
           "zerolinecolor": "white"
          },
          "yaxis": {
           "automargin": true,
           "gridcolor": "white",
           "linecolor": "white",
           "showgrid": true,
           "tickcolor": "rgb(51,51,51)",
           "ticks": "outside",
           "zerolinecolor": "white"
          }
         }
        },
        "width": 800,
        "xaxis": {
         "title": {
          "text": "date"
         }
        },
        "yaxis": {
         "range": [
          0,
          0.12
         ],
         "tickformat": ",.0%",
         "title": {
          "text": "click_rate"
         }
        }
       }
      },
      "text/html": [
       "<div>\n",
       "        \n",
       "        \n",
       "            <div id=\"0deef75d-2b6c-4b5d-9393-ec4cfb3cd8b3\" class=\"plotly-graph-div\" style=\"height:400px; width:800px;\"></div>\n",
       "            <script type=\"text/javascript\">\n",
       "                require([\"plotly\"], function(Plotly) {\n",
       "                    window.PLOTLYENV=window.PLOTLYENV || {};\n",
       "                    window.PLOTLYENV.BASE_URL='https://plot.ly';\n",
       "                    \n",
       "                if (document.getElementById(\"0deef75d-2b6c-4b5d-9393-ec4cfb3cd8b3\")) {\n",
       "                    Plotly.newPlot(\n",
       "                        '0deef75d-2b6c-4b5d-9393-ec4cfb3cd8b3',\n",
       "                        [{\"hoverlabel\": {\"namelength\": 0}, \"hovertemplate\": \"platform=android<br>date=%{x}<br>click_rate=%{y}\", \"legendgroup\": \"platform=android\", \"line\": {\"color\": \"#87CEEB\", \"dash\": \"solid\"}, \"mode\": \"lines\", \"name\": \"platform=android\", \"showlegend\": true, \"textfont\": {\"size\": 10}, \"type\": \"scatter\", \"uid\": \"b4587006-d1e9-4bcb-b426-b4d550ff660c\", \"x\": [\"2019-02-28\", \"2019-02-27\", \"2019-02-26\", \"2019-02-25\", \"2019-02-24\", \"2019-02-23\", \"2019-02-22\", \"2019-02-21\", \"2019-02-20\", \"2019-02-19\", \"2019-02-18\", \"2019-02-17\", \"2019-02-16\", \"2019-02-15\", \"2019-02-14\", \"2019-02-13\", \"2019-02-12\", \"2019-02-11\", \"2019-02-10\", \"2019-02-09\", \"2019-02-08\", \"2019-02-07\", \"2019-02-06\", \"2019-02-05\", \"2019-02-04\", \"2019-02-03\", \"2019-02-02\", \"2019-02-01\", \"2019-01-31\", \"2019-01-30\", \"2019-01-29\", \"2019-01-28\", \"2019-01-27\", \"2019-01-26\", \"2019-01-25\", \"2019-01-24\", \"2019-01-23\", \"2019-01-22\", \"2019-01-21\", \"2019-01-20\", \"2019-01-19\", \"2019-01-18\", \"2019-01-17\", \"2019-01-16\", \"2019-01-15\", \"2019-01-14\", \"2019-01-13\", \"2019-01-12\", \"2019-01-11\", \"2019-01-10\", \"2019-01-09\", \"2019-01-08\", \"2019-01-07\", \"2019-01-06\", \"2019-01-05\", \"2019-01-04\", \"2019-01-03\", \"2019-01-02\", \"2019-01-01\"], \"xaxis\": \"x\", \"y\": [0.0401, 0.0411, 0.0347, 0.0362, 0.0402, 0.0409, 0.0395, 0.0313, 0.0392, 0.0401, 0.0348, 0.0353, 0.0477, 0.0389, 0.0319, 0.0412, 0.0329, 0.0304, 0.0322, 0.0337, 0.0372, 0.0318, 0.028999999999999998, 0.0309, 0.0317, 0.0329, 0.0288, 0.0302, 0.0335, 0.0407, 0.0352, 0.0443, 0.0387, 0.0311, 0.0332, 0.0312, 0.0454, 0.0402, 0.0389, 0.0325, 0.028999999999999998, 0.0354, 0.0367, 0.0473, 0.0361, 0.0271, 0.0273, 0.027000000000000003, 0.025, 0.0267, 0.0257, 0.0235, 0.0248, 0.0305, 0.0236, 0.0247, 0.0263, 0.0293, 0.0322], \"yaxis\": \"y\"}, {\"hoverlabel\": {\"namelength\": 0}, \"hovertemplate\": \"platform=ios<br>date=%{x}<br>click_rate=%{y}\", \"legendgroup\": \"platform=ios\", \"line\": {\"color\": \"#FF6347\", \"dash\": \"solid\"}, \"mode\": \"lines\", \"name\": \"platform=ios\", \"showlegend\": true, \"textfont\": {\"size\": 10}, \"type\": \"scatter\", \"uid\": \"d58951c6-1623-4822-a0f5-02e4ff0ee312\", \"x\": [\"2019-02-28\", \"2019-02-27\", \"2019-02-26\", \"2019-02-25\", \"2019-02-24\", \"2019-02-23\", \"2019-02-22\", \"2019-02-21\", \"2019-02-20\", \"2019-02-19\", \"2019-02-18\", \"2019-02-17\", \"2019-02-16\", \"2019-02-15\", \"2019-02-14\", \"2019-02-13\", \"2019-02-12\", \"2019-02-11\", \"2019-02-10\", \"2019-02-09\", \"2019-02-08\", \"2019-02-07\", \"2019-02-06\", \"2019-02-05\", \"2019-02-04\", \"2019-02-03\", \"2019-02-02\", \"2019-02-01\", \"2019-01-31\", \"2019-01-30\", \"2019-01-29\", \"2019-01-28\", \"2019-01-27\", \"2019-01-26\", \"2019-01-25\", \"2019-01-24\", \"2019-01-23\", \"2019-01-22\", \"2019-01-21\", \"2019-01-20\", \"2019-01-19\", \"2019-01-18\", \"2019-01-17\", \"2019-01-16\", \"2019-01-15\", \"2019-01-14\", \"2019-01-13\", \"2019-01-12\", \"2019-01-11\", \"2019-01-10\", \"2019-01-09\", \"2019-01-08\", \"2019-01-07\", \"2019-01-06\", \"2019-01-05\", \"2019-01-04\", \"2019-01-03\", \"2019-01-02\", \"2019-01-01\"], \"xaxis\": \"x\", \"y\": [0.083, 0.0826, 0.0822, 0.0841, 0.0867, 0.0884, 0.0853, 0.08, 0.0758, 0.0814, 0.0755, 0.0813, 0.0856, 0.0773, 0.0665, 0.07, 0.0753, 0.0824, 0.0802, 0.078, 0.0833, 0.0749, 0.0745, 0.0762, 0.079, 0.087, 0.0894, 0.0774, 0.0758, 0.0808, 0.0697, 0.0736, 0.0845, 0.0814, 0.0754, 0.0701, 0.0749, 0.0847, 0.0797, 0.0744, 0.0783, 0.0795, 0.0767, 0.0808, 0.0761, 0.075, 0.0763, 0.0749, 0.0726, 0.0708, 0.0717, 0.0725, 0.0756, 0.078, 0.0769, 0.0773, 0.0773, 0.0834, 0.09], \"yaxis\": \"y\"}],\n",
       "                        {\"grid\": {\"xaxes\": [\"x\"], \"xgap\": 0.1, \"xside\": \"bottom\", \"yaxes\": [\"y\"], \"ygap\": 0.1, \"yside\": \"left\"}, \"height\": 400, \"legend\": {\"tracegroupgap\": 0}, \"margin\": {\"t\": 60}, \"template\": {\"data\": {\"bar\": [{\"marker\": {\"line\": {\"color\": \"rgb(237,237,237)\", \"width\": 0.5}}, \"type\": \"bar\"}], \"barpolar\": [{\"marker\": {\"line\": {\"color\": \"rgb(237,237,237)\", \"width\": 0.5}}, \"type\": \"barpolar\"}], \"carpet\": [{\"aaxis\": {\"endlinecolor\": \"rgb(51,51,51)\", \"gridcolor\": \"white\", \"linecolor\": \"white\", \"minorgridcolor\": \"white\", \"startlinecolor\": \"rgb(51,51,51)\"}, \"baxis\": {\"endlinecolor\": \"rgb(51,51,51)\", \"gridcolor\": \"white\", \"linecolor\": \"white\", \"minorgridcolor\": \"white\", \"startlinecolor\": \"rgb(51,51,51)\"}, \"type\": \"carpet\"}], \"choropleth\": [{\"colorbar\": {\"outlinewidth\": 0, \"tickcolor\": \"rgb(237,237,237)\", \"ticklen\": 6, \"ticks\": \"inside\"}, \"type\": \"choropleth\"}], \"contour\": [{\"colorbar\": {\"outlinewidth\": 0, \"tickcolor\": \"rgb(237,237,237)\", \"ticklen\": 6, \"ticks\": \"inside\"}, \"colorscale\": [[0, \"rgb(20,44,66)\"], [1, \"rgb(90,179,244)\"]], \"type\": \"contour\"}], \"contourcarpet\": [{\"colorbar\": {\"outlinewidth\": 0, \"tickcolor\": \"rgb(237,237,237)\", \"ticklen\": 6, \"ticks\": \"inside\"}, \"type\": \"contourcarpet\"}], \"heatmap\": [{\"colorbar\": {\"outlinewidth\": 0, \"tickcolor\": \"rgb(237,237,237)\", \"ticklen\": 6, \"ticks\": \"inside\"}, \"colorscale\": [[0, \"rgb(20,44,66)\"], [1, \"rgb(90,179,244)\"]], \"type\": \"heatmap\"}], \"heatmapgl\": [{\"colorbar\": {\"outlinewidth\": 0, \"tickcolor\": \"rgb(237,237,237)\", \"ticklen\": 6, \"ticks\": \"inside\"}, \"type\": \"heatmapgl\"}], \"histogram\": [{\"marker\": {\"colorbar\": {\"outlinewidth\": 0, \"tickcolor\": \"rgb(237,237,237)\", \"ticklen\": 6, \"ticks\": \"inside\"}}, \"type\": \"histogram\"}], \"histogram2d\": [{\"colorbar\": {\"outlinewidth\": 0, \"tickcolor\": \"rgb(237,237,237)\", \"ticklen\": 6, \"ticks\": \"inside\"}, \"colorscale\": [[0, \"rgb(20,44,66)\"], [1, \"rgb(90,179,244)\"]], \"type\": \"histogram2d\"}], \"histogram2dcontour\": [{\"colorbar\": {\"outlinewidth\": 0, \"tickcolor\": \"rgb(237,237,237)\", \"ticklen\": 6, \"ticks\": \"inside\"}, \"colorscale\": [[0, \"rgb(20,44,66)\"], [1, \"rgb(90,179,244)\"]], \"type\": \"histogram2dcontour\"}], \"mesh3d\": [{\"colorbar\": {\"outlinewidth\": 0, \"tickcolor\": \"rgb(237,237,237)\", \"ticklen\": 6, \"ticks\": \"inside\"}, \"type\": \"mesh3d\"}], \"parcoords\": [{\"line\": {\"colorbar\": {\"outlinewidth\": 0, \"tickcolor\": \"rgb(237,237,237)\", \"ticklen\": 6, \"ticks\": \"inside\"}}, \"type\": \"parcoords\"}], \"scatter\": [{\"marker\": {\"colorbar\": {\"outlinewidth\": 0, \"tickcolor\": \"rgb(237,237,237)\", \"ticklen\": 6, \"ticks\": \"inside\"}}, \"type\": \"scatter\"}], \"scatter3d\": [{\"marker\": {\"colorbar\": {\"outlinewidth\": 0, \"tickcolor\": \"rgb(237,237,237)\", \"ticklen\": 6, \"ticks\": \"inside\"}}, \"type\": \"scatter3d\"}], \"scattercarpet\": [{\"marker\": {\"colorbar\": {\"outlinewidth\": 0, \"tickcolor\": \"rgb(237,237,237)\", \"ticklen\": 6, \"ticks\": \"inside\"}}, \"type\": \"scattercarpet\"}], \"scattergeo\": [{\"marker\": {\"colorbar\": {\"outlinewidth\": 0, \"tickcolor\": \"rgb(237,237,237)\", \"ticklen\": 6, \"ticks\": \"inside\"}}, \"type\": \"scattergeo\"}], \"scattergl\": [{\"marker\": {\"colorbar\": {\"outlinewidth\": 0, \"tickcolor\": \"rgb(237,237,237)\", \"ticklen\": 6, \"ticks\": \"inside\"}}, \"type\": \"scattergl\"}], \"scattermapbox\": [{\"marker\": {\"colorbar\": {\"outlinewidth\": 0, \"tickcolor\": \"rgb(237,237,237)\", \"ticklen\": 6, \"ticks\": \"inside\"}}, \"type\": \"scattermapbox\"}], \"scatterpolar\": [{\"marker\": {\"colorbar\": {\"outlinewidth\": 0, \"tickcolor\": \"rgb(237,237,237)\", \"ticklen\": 6, \"ticks\": \"inside\"}}, \"type\": \"scatterpolar\"}], \"scatterpolargl\": [{\"marker\": {\"colorbar\": {\"outlinewidth\": 0, \"tickcolor\": \"rgb(237,237,237)\", \"ticklen\": 6, \"ticks\": \"inside\"}}, \"type\": \"scatterpolargl\"}], \"scatterternary\": [{\"marker\": {\"colorbar\": {\"outlinewidth\": 0, \"tickcolor\": \"rgb(237,237,237)\", \"ticklen\": 6, \"ticks\": \"inside\"}}, \"type\": \"scatterternary\"}], \"surface\": [{\"colorbar\": {\"outlinewidth\": 0, \"tickcolor\": \"rgb(237,237,237)\", \"ticklen\": 6, \"ticks\": \"inside\"}, \"type\": \"surface\"}], \"table\": [{\"cells\": {\"fill\": {\"color\": \"rgb(237,237,237)\"}, \"line\": {\"color\": \"white\"}}, \"header\": {\"fill\": {\"color\": \"rgb(217,217,217)\"}, \"line\": {\"color\": \"white\"}}, \"type\": \"table\"}]}, \"layout\": {\"annotationdefaults\": {\"arrowhead\": 0, \"arrowwidth\": 1}, \"colorscale\": {\"sequential\": [[0, \"rgb(20,44,66)\"], [1, \"rgb(90,179,244)\"]], \"sequentialminus\": [[0, \"rgb(20,44,66)\"], [1, \"rgb(90,179,244)\"]]}, \"colorway\": [\"#F8766D\", \"#A3A500\", \"#00BF7D\", \"#00B0F6\", \"#E76BF3\"], \"font\": {\"color\": \"rgb(51,51,51)\"}, \"geo\": {\"bgcolor\": \"white\", \"lakecolor\": \"white\", \"landcolor\": \"rgb(237,237,237)\", \"showlakes\": true, \"showland\": true, \"subunitcolor\": \"white\"}, \"hoverlabel\": {\"align\": \"left\"}, \"hovermode\": \"closest\", \"paper_bgcolor\": \"white\", \"plot_bgcolor\": \"rgb(237,237,237)\", \"polar\": {\"angularaxis\": {\"gridcolor\": \"white\", \"linecolor\": \"white\", \"showgrid\": true, \"tickcolor\": \"rgb(51,51,51)\", \"ticks\": \"outside\"}, \"bgcolor\": \"rgb(237,237,237)\", \"radialaxis\": {\"gridcolor\": \"white\", \"linecolor\": \"white\", \"showgrid\": true, \"tickcolor\": \"rgb(51,51,51)\", \"ticks\": \"outside\"}}, \"scene\": {\"xaxis\": {\"backgroundcolor\": \"rgb(237,237,237)\", \"gridcolor\": \"white\", \"gridwidth\": 2, \"linecolor\": \"white\", \"showbackground\": true, \"showgrid\": true, \"tickcolor\": \"rgb(51,51,51)\", \"ticks\": \"outside\", \"zerolinecolor\": \"white\"}, \"yaxis\": {\"backgroundcolor\": \"rgb(237,237,237)\", \"gridcolor\": \"white\", \"gridwidth\": 2, \"linecolor\": \"white\", \"showbackground\": true, \"showgrid\": true, \"tickcolor\": \"rgb(51,51,51)\", \"ticks\": \"outside\", \"zerolinecolor\": \"white\"}, \"zaxis\": {\"backgroundcolor\": \"rgb(237,237,237)\", \"gridcolor\": \"white\", \"gridwidth\": 2, \"linecolor\": \"white\", \"showbackground\": true, \"showgrid\": true, \"tickcolor\": \"rgb(51,51,51)\", \"ticks\": \"outside\", \"zerolinecolor\": \"white\"}}, \"shapedefaults\": {\"fillcolor\": \"black\", \"line\": {\"width\": 0}, \"opacity\": 0.3}, \"ternary\": {\"aaxis\": {\"gridcolor\": \"white\", \"linecolor\": \"white\", \"showgrid\": true, \"tickcolor\": \"rgb(51,51,51)\", \"ticks\": \"outside\"}, \"baxis\": {\"gridcolor\": \"white\", \"linecolor\": \"white\", \"showgrid\": true, \"tickcolor\": \"rgb(51,51,51)\", \"ticks\": \"outside\"}, \"bgcolor\": \"rgb(237,237,237)\", \"caxis\": {\"gridcolor\": \"white\", \"linecolor\": \"white\", \"showgrid\": true, \"tickcolor\": \"rgb(51,51,51)\", \"ticks\": \"outside\"}}, \"xaxis\": {\"automargin\": true, \"gridcolor\": \"white\", \"linecolor\": \"white\", \"showgrid\": true, \"tickcolor\": \"rgb(51,51,51)\", \"ticks\": \"outside\", \"zerolinecolor\": \"white\"}, \"yaxis\": {\"automargin\": true, \"gridcolor\": \"white\", \"linecolor\": \"white\", \"showgrid\": true, \"tickcolor\": \"rgb(51,51,51)\", \"ticks\": \"outside\", \"zerolinecolor\": \"white\"}}}, \"width\": 800, \"xaxis\": {\"title\": {\"text\": \"date\"}}, \"yaxis\": {\"range\": [0, 0.12], \"tickformat\": \",.0%\", \"title\": {\"text\": \"click_rate\"}}},\n",
       "                        {\"showLink\": false, \"linkText\": \"Export to plot.ly\", \"plotlyServerURL\": \"https://plot.ly\", \"responsive\": true}\n",
       "                    ).then(function(){\n",
       "                            \n",
       "var gd = document.getElementById('0deef75d-2b6c-4b5d-9393-ec4cfb3cd8b3');\n",
       "var x = new MutationObserver(function (mutations, observer) {{\n",
       "        var display = window.getComputedStyle(gd).display;\n",
       "        if (!display || display === 'none') {{\n",
       "            console.log([gd, 'removed!']);\n",
       "            Plotly.purge(gd);\n",
       "            observer.disconnect();\n",
       "        }}\n",
       "}});\n",
       "\n",
       "// Listen for the removal of the full notebook cells\n",
       "var notebookContainer = gd.closest('#notebook-container');\n",
       "if (notebookContainer) {{\n",
       "    x.observe(notebookContainer, {childList: true});\n",
       "}}\n",
       "\n",
       "// Listen for the clearing of the current output cell\n",
       "var outputEl = gd.closest('.output');\n",
       "if (outputEl) {{\n",
       "    x.observe(outputEl, {childList: true});\n",
       "}}\n",
       "\n",
       "                        })\n",
       "                };\n",
       "                });\n",
       "            </script>\n",
       "        </div>"
      ]
     },
     "metadata": {},
     "output_type": "display_data"
    }
   ],
   "source": [
    "fig = px.line(\n",
    "    df, \n",
    "    x='date', \n",
    "    y='click_rate',\n",
    "    color='platform',\n",
    "    labels={'ios': 'IOS conversion rate'}, \n",
    "    width=800,\n",
    "    height=400,\n",
    "    template='ggplot2',\n",
    "    color_discrete_sequence=['#87CEEB', '#FF6347'],\n",
    "    )\n",
    "\n",
    "fig.update_traces(textfont = dict(size = 10))\n",
    "\n",
    "fig.update(\n",
    "    layout=dict(yaxis= {'tickformat': ',.0%', 'range': [0, df['click_rate'].max()+0.03]})\n",
    ")\n",
    "\n",
    "fig"
   ]
  },
  {
   "cell_type": "code",
   "execution_count": 67,
   "metadata": {},
   "outputs": [
    {
     "data": {
      "text/plain": [
       "'../../htmls/line_chart_basic.html'"
      ]
     },
     "execution_count": 67,
     "metadata": {},
     "output_type": "execute_result"
    }
   ],
   "source": [
    "# export chart as image and html (interactive)\n",
    "\n",
    "filename = 'line_chart_basic'\n",
    "\n",
    "# image export\n",
    "write_image(fig, f'../../images/{filename}.png')\n",
    "\n",
    "# html export\n",
    "py.offline.plot(fig, auto_open=False, filename = f'../../htmls/{filename}.html', include_plotlyjs=True)"
   ]
  },
  {
   "cell_type": "code",
   "execution_count": null,
   "metadata": {},
   "outputs": [],
   "source": []
  }
 ],
 "metadata": {
  "kernelspec": {
   "display_name": "Python 3",
   "language": "python",
   "name": "python3"
  },
  "language_info": {
   "codemirror_mode": {
    "name": "ipython",
    "version": 3
   },
   "file_extension": ".py",
   "mimetype": "text/x-python",
   "name": "python",
   "nbconvert_exporter": "python",
   "pygments_lexer": "ipython3",
   "version": "3.7.3"
  }
 },
 "nbformat": 4,
 "nbformat_minor": 2
}
